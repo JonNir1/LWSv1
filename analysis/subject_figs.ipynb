{
 "cells": [
  {
   "cell_type": "code",
   "execution_count": null,
   "id": "initial_id",
   "metadata": {
    "collapsed": true
   },
   "outputs": [],
   "source": [
    "# TODO:\n",
    "#   1. generic function to create figures with 3 subplots like `percent_identified_figure`:\n",
    "#       line over trial num, bar over trial type, bar over target type\n",
    "#   2. time till first identification - line plot (with and without bad-action trials; split by category and search-array type)\n",
    "#   3. total fixations till first identification - line plot (with and without bad-action trials; split by category and search-array type)\n",
    "#   4. number of visits before identification - histogram (with and without bad-action trials; split by category and overall)\n",
    "\n",
    "# TODO:\n",
    "#  fixations on target till identifications (with and without bad-action trials) - histogram\n",
    "#  fixations on target till identifications, split by category (with and without bad-action trials) - histogram\n",
    "#  % identified after bottom-strip visits (include non-identified) - cumulative histogram for -4, -3, ... fixations back from identification\n",
    "#  exploration/exploitation - fixation duration and saccade sizes over trial time - line plot (also by category and search-array type)"
   ]
  }
 ],
 "metadata": {
  "kernelspec": {
   "display_name": "Python 3",
   "language": "python",
   "name": "python3"
  },
  "language_info": {
   "codemirror_mode": {
    "name": "ipython",
    "version": 2
   },
   "file_extension": ".py",
   "mimetype": "text/x-python",
   "name": "python",
   "nbconvert_exporter": "python",
   "pygments_lexer": "ipython2",
   "version": "2.7.6"
  }
 },
 "nbformat": 4,
 "nbformat_minor": 5
}
