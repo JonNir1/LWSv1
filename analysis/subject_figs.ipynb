{
 "cells": [
  {
   "cell_type": "code",
   "execution_count": null,
   "id": "initial_id",
   "metadata": {
    "collapsed": true
   },
   "outputs": [],
   "source": [
    "# TODO:\n",
    "\n",
    "#  time till first identification - line plot (with and without bad-action trials; split by category and search-array type)\n",
    "#  total fixations till first identification - line plot (with and without bad-action trials; split by category and search-array type)\n",
    "#  number of visits before identification - histogram (with and without bad-action trials; split by category and overall)\n",
    "\n",
    "#  fixations on target till identifications (with and without bad-action trials) - histogram\n",
    "#  fixations on target till identifications, split by category (with and without bad-action trials) - histogram\n",
    "#  % identified after bottom-strip visits (include non-identified) - cumulative histogram for -4, -3, ... fixations back from identification\n",
    "#  exploration/exploitation - fixation duration and saccade sizes over trial time - line plot (also by category and search-array type)"
   ]
  }
 ],
 "metadata": {
  "kernelspec": {
   "display_name": "Python 3",
   "language": "python",
   "name": "python3"
  },
  "language_info": {
   "codemirror_mode": {
    "name": "ipython",
    "version": 2
   },
   "file_extension": ".py",
   "mimetype": "text/x-python",
   "name": "python",
   "nbconvert_exporter": "python",
   "pygments_lexer": "ipython2",
   "version": "2.7.6"
  }
 },
 "nbformat": 4,
 "nbformat_minor": 5
}
