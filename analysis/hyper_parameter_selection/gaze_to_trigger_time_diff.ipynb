{
 "cells": [
  {
   "metadata": {},
   "cell_type": "markdown",
   "source": [
    "# Trigger-Gaze $\\Delta t$\n",
    "The difference between trigger times and their closest gaze sample, to determine the value of hyperparameter `cnfg.MAX_GAZE_TO_TRIGGER_TIME_DIFF`, which determines if a gaze sample is close enough to a trigger to be considered \"co-occurring\"."
   ],
   "id": "975abaf6840410ac"
  },
  {
   "metadata": {
    "ExecuteTime": {
     "end_time": "2025-07-14T09:12:23.139400Z",
     "start_time": "2025-07-14T09:12:19.937135Z"
    }
   },
   "cell_type": "code",
   "source": [
    "import numpy as np\n",
    "import pandas as pd\n",
    "import plotly.graph_objects as go\n",
    "from plotly.subplots import make_subplots\n",
    "import plotly.io as pio\n",
    "\n",
    "import config as cnfg\n",
    "\n",
    "pio.renderers.default = \"notebook\"      # or \"browser\""
   ],
   "id": "8754a07b1ea26a4a",
   "outputs": [],
   "execution_count": 2
  },
  {
   "metadata": {},
   "cell_type": "markdown",
   "source": "### Parse Subjects",
   "id": "2c0dd144c03d7414"
  },
  {
   "metadata": {
    "ExecuteTime": {
     "end_time": "2025-07-14T09:14:47.113777Z",
     "start_time": "2025-07-14T09:12:23.145561Z"
    }
   },
   "cell_type": "code",
   "source": [
    "from analysis.pipeline.preprocess_subjects import preprocess_all_subjects\n",
    "\n",
    "subjects = preprocess_all_subjects(cnfg.RAW_DATA_PATH, verbose=True)"
   ],
   "id": "207aa6882c02dad4",
   "outputs": [
    {
     "name": "stderr",
     "output_type": "stream",
     "text": [
      "Preprocessing Subjects: 100%|██████████| 13/13 [02:23<00:00, 11.06s/it]"
     ]
    },
    {
     "name": "stdout",
     "output_type": "stream",
     "text": [
      "All 13 subjects processed successfully.\n"
     ]
    },
    {
     "name": "stderr",
     "output_type": "stream",
     "text": [
      "\n"
     ]
    }
   ],
   "execution_count": 3
  },
  {
   "metadata": {},
   "cell_type": "markdown",
   "source": "### Calculate $\\Delta t$ for each subject-action",
   "id": "a21ca6af2797b24c"
  },
  {
   "metadata": {
    "ExecuteTime": {
     "end_time": "2025-07-14T09:30:45.295904Z",
     "start_time": "2025-07-14T09:30:41.890216Z"
    }
   },
   "cell_type": "code",
   "source": [
    "action_to_gaze_diffs = dict()\n",
    "for subj in subjects:\n",
    "    for tr in subj.get_trials():\n",
    "        gaze = tr.get_gaze().sort_values(\"time\")\n",
    "        action = tr.get_actions().sort_values(\"time\")\n",
    "        for allow_nan_gaze in [True, False]:\n",
    "            gaze_copy = gaze.copy()\n",
    "            if not allow_nan_gaze:\n",
    "                is_missing_left = gaze[['left_x', 'left_y']].isna().any(axis=1)\n",
    "                is_missing_right = gaze[['right_x', 'right_y']].isna().any(axis=1)\n",
    "                is_missing = is_missing_left & is_missing_right\n",
    "                gaze_copy = gaze_copy.loc[~is_missing]\n",
    "            gaze_times = gaze_copy['time'].values\n",
    "            action_times = action['time'].values\n",
    "            diffs = np.abs(gaze_times[:, None] - action_times[None, :])  # shape (gaze, actions)\n",
    "            min_diff = diffs.min(axis=0)  # minimum difference for each action time; shape (actions,)\n",
    "            action_to_gaze_diffs[(subj.id, tr.trial_num, allow_nan_gaze)] = min_diff\n",
    "\n",
    "\n",
    "action_to_gaze_diffs = (\n",
    "    pd.Series(action_to_gaze_diffs)\n",
    "    .explode()\n",
    "    .dropna()\n",
    "    .reset_index(drop=False)\n",
    "    .rename(columns={\"level_0\": \"subject\", \"level_1\": \"trial\", \"level_2\": \"allow_nan_gaze\", 0: \"time_diff\"})\n",
    ")\n",
    "\n",
    "action_to_gaze_diffs"
   ],
   "id": "ff516ae3f1a44cf6",
   "outputs": [
    {
     "data": {
      "text/plain": [
       "      subject  trial  allow_nan_gaze time_diff\n",
       "0          15      2            True         1\n",
       "1          15      2            True         0\n",
       "2          15      2           False         1\n",
       "3          15      2           False         0\n",
       "4          15      6            True         0\n",
       "...       ...    ...             ...       ...\n",
       "3025       16     58           False         0\n",
       "3026       16     59            True         0\n",
       "3027       16     59           False         0\n",
       "3028       16     60            True         0\n",
       "3029       16     60           False         0\n",
       "\n",
       "[3030 rows x 4 columns]"
      ],
      "text/html": [
       "<div>\n",
       "<style scoped>\n",
       "    .dataframe tbody tr th:only-of-type {\n",
       "        vertical-align: middle;\n",
       "    }\n",
       "\n",
       "    .dataframe tbody tr th {\n",
       "        vertical-align: top;\n",
       "    }\n",
       "\n",
       "    .dataframe thead th {\n",
       "        text-align: right;\n",
       "    }\n",
       "</style>\n",
       "<table border=\"1\" class=\"dataframe\">\n",
       "  <thead>\n",
       "    <tr style=\"text-align: right;\">\n",
       "      <th></th>\n",
       "      <th>subject</th>\n",
       "      <th>trial</th>\n",
       "      <th>allow_nan_gaze</th>\n",
       "      <th>time_diff</th>\n",
       "    </tr>\n",
       "  </thead>\n",
       "  <tbody>\n",
       "    <tr>\n",
       "      <th>0</th>\n",
       "      <td>15</td>\n",
       "      <td>2</td>\n",
       "      <td>True</td>\n",
       "      <td>1</td>\n",
       "    </tr>\n",
       "    <tr>\n",
       "      <th>1</th>\n",
       "      <td>15</td>\n",
       "      <td>2</td>\n",
       "      <td>True</td>\n",
       "      <td>0</td>\n",
       "    </tr>\n",
       "    <tr>\n",
       "      <th>2</th>\n",
       "      <td>15</td>\n",
       "      <td>2</td>\n",
       "      <td>False</td>\n",
       "      <td>1</td>\n",
       "    </tr>\n",
       "    <tr>\n",
       "      <th>3</th>\n",
       "      <td>15</td>\n",
       "      <td>2</td>\n",
       "      <td>False</td>\n",
       "      <td>0</td>\n",
       "    </tr>\n",
       "    <tr>\n",
       "      <th>4</th>\n",
       "      <td>15</td>\n",
       "      <td>6</td>\n",
       "      <td>True</td>\n",
       "      <td>0</td>\n",
       "    </tr>\n",
       "    <tr>\n",
       "      <th>...</th>\n",
       "      <td>...</td>\n",
       "      <td>...</td>\n",
       "      <td>...</td>\n",
       "      <td>...</td>\n",
       "    </tr>\n",
       "    <tr>\n",
       "      <th>3025</th>\n",
       "      <td>16</td>\n",
       "      <td>58</td>\n",
       "      <td>False</td>\n",
       "      <td>0</td>\n",
       "    </tr>\n",
       "    <tr>\n",
       "      <th>3026</th>\n",
       "      <td>16</td>\n",
       "      <td>59</td>\n",
       "      <td>True</td>\n",
       "      <td>0</td>\n",
       "    </tr>\n",
       "    <tr>\n",
       "      <th>3027</th>\n",
       "      <td>16</td>\n",
       "      <td>59</td>\n",
       "      <td>False</td>\n",
       "      <td>0</td>\n",
       "    </tr>\n",
       "    <tr>\n",
       "      <th>3028</th>\n",
       "      <td>16</td>\n",
       "      <td>60</td>\n",
       "      <td>True</td>\n",
       "      <td>0</td>\n",
       "    </tr>\n",
       "    <tr>\n",
       "      <th>3029</th>\n",
       "      <td>16</td>\n",
       "      <td>60</td>\n",
       "      <td>False</td>\n",
       "      <td>0</td>\n",
       "    </tr>\n",
       "  </tbody>\n",
       "</table>\n",
       "<p>3030 rows × 4 columns</p>\n",
       "</div>"
      ]
     },
     "execution_count": 41,
     "metadata": {},
     "output_type": "execute_result"
    }
   ],
   "execution_count": 41
  },
  {
   "metadata": {
    "ExecuteTime": {
     "end_time": "2025-07-14T09:33:32.625197Z",
     "start_time": "2025-07-14T09:33:32.558965Z"
    }
   },
   "cell_type": "code",
   "source": [
    "action_to_gaze_diffs.groupby([\"subject\", \"trial\", \"allow_nan_gaze\"]).agg(\n",
    "    min_time_diff=(\"time_diff\", \"min\"),\n",
    "    max_time_diff=(\"time_diff\", \"max\"),\n",
    ").reset_index()"
   ],
   "id": "68ebce5a6ce71918",
   "outputs": [
    {
     "data": {
      "text/plain": [
       "      subject  trial  allow_nan_gaze min_time_diff max_time_diff\n",
       "0           2      1           False             0             1\n",
       "1           2      1            True             0             1\n",
       "2           2      2           False             1             1\n",
       "3           2      2            True             1             1\n",
       "4           2      3           False             0             0\n",
       "...       ...    ...             ...           ...           ...\n",
       "1467       22     58            True             0             1\n",
       "1468       22     59           False             0             1\n",
       "1469       22     59            True             0             1\n",
       "1470       22     60           False             1             1\n",
       "1471       22     60            True             1             1\n",
       "\n",
       "[1472 rows x 5 columns]"
      ],
      "text/html": [
       "<div>\n",
       "<style scoped>\n",
       "    .dataframe tbody tr th:only-of-type {\n",
       "        vertical-align: middle;\n",
       "    }\n",
       "\n",
       "    .dataframe tbody tr th {\n",
       "        vertical-align: top;\n",
       "    }\n",
       "\n",
       "    .dataframe thead th {\n",
       "        text-align: right;\n",
       "    }\n",
       "</style>\n",
       "<table border=\"1\" class=\"dataframe\">\n",
       "  <thead>\n",
       "    <tr style=\"text-align: right;\">\n",
       "      <th></th>\n",
       "      <th>subject</th>\n",
       "      <th>trial</th>\n",
       "      <th>allow_nan_gaze</th>\n",
       "      <th>min_time_diff</th>\n",
       "      <th>max_time_diff</th>\n",
       "    </tr>\n",
       "  </thead>\n",
       "  <tbody>\n",
       "    <tr>\n",
       "      <th>0</th>\n",
       "      <td>2</td>\n",
       "      <td>1</td>\n",
       "      <td>False</td>\n",
       "      <td>0</td>\n",
       "      <td>1</td>\n",
       "    </tr>\n",
       "    <tr>\n",
       "      <th>1</th>\n",
       "      <td>2</td>\n",
       "      <td>1</td>\n",
       "      <td>True</td>\n",
       "      <td>0</td>\n",
       "      <td>1</td>\n",
       "    </tr>\n",
       "    <tr>\n",
       "      <th>2</th>\n",
       "      <td>2</td>\n",
       "      <td>2</td>\n",
       "      <td>False</td>\n",
       "      <td>1</td>\n",
       "      <td>1</td>\n",
       "    </tr>\n",
       "    <tr>\n",
       "      <th>3</th>\n",
       "      <td>2</td>\n",
       "      <td>2</td>\n",
       "      <td>True</td>\n",
       "      <td>1</td>\n",
       "      <td>1</td>\n",
       "    </tr>\n",
       "    <tr>\n",
       "      <th>4</th>\n",
       "      <td>2</td>\n",
       "      <td>3</td>\n",
       "      <td>False</td>\n",
       "      <td>0</td>\n",
       "      <td>0</td>\n",
       "    </tr>\n",
       "    <tr>\n",
       "      <th>...</th>\n",
       "      <td>...</td>\n",
       "      <td>...</td>\n",
       "      <td>...</td>\n",
       "      <td>...</td>\n",
       "      <td>...</td>\n",
       "    </tr>\n",
       "    <tr>\n",
       "      <th>1467</th>\n",
       "      <td>22</td>\n",
       "      <td>58</td>\n",
       "      <td>True</td>\n",
       "      <td>0</td>\n",
       "      <td>1</td>\n",
       "    </tr>\n",
       "    <tr>\n",
       "      <th>1468</th>\n",
       "      <td>22</td>\n",
       "      <td>59</td>\n",
       "      <td>False</td>\n",
       "      <td>0</td>\n",
       "      <td>1</td>\n",
       "    </tr>\n",
       "    <tr>\n",
       "      <th>1469</th>\n",
       "      <td>22</td>\n",
       "      <td>59</td>\n",
       "      <td>True</td>\n",
       "      <td>0</td>\n",
       "      <td>1</td>\n",
       "    </tr>\n",
       "    <tr>\n",
       "      <th>1470</th>\n",
       "      <td>22</td>\n",
       "      <td>60</td>\n",
       "      <td>False</td>\n",
       "      <td>1</td>\n",
       "      <td>1</td>\n",
       "    </tr>\n",
       "    <tr>\n",
       "      <th>1471</th>\n",
       "      <td>22</td>\n",
       "      <td>60</td>\n",
       "      <td>True</td>\n",
       "      <td>1</td>\n",
       "      <td>1</td>\n",
       "    </tr>\n",
       "  </tbody>\n",
       "</table>\n",
       "<p>1472 rows × 5 columns</p>\n",
       "</div>"
      ]
     },
     "execution_count": 44,
     "metadata": {},
     "output_type": "execute_result"
    }
   ],
   "execution_count": 44
  },
  {
   "metadata": {
    "ExecuteTime": {
     "end_time": "2025-07-14T09:34:48.652427Z",
     "start_time": "2025-07-14T09:34:48.646108Z"
    }
   },
   "cell_type": "code",
   "source": "action_to_gaze_diffs.groupby(\"allow_nan_gaze\")[\"time_diff\"].value_counts()",
   "id": "64cb95d0c1595ca1",
   "outputs": [
    {
     "data": {
      "text/plain": [
       "allow_nan_gaze  time_diff\n",
       "False           0            941\n",
       "                1            574\n",
       "True            0            941\n",
       "                1            574\n",
       "Name: count, dtype: int64"
      ]
     },
     "execution_count": 47,
     "metadata": {},
     "output_type": "execute_result"
    }
   ],
   "execution_count": 47
  },
  {
   "metadata": {},
   "cell_type": "code",
   "outputs": [],
   "execution_count": null,
   "source": "",
   "id": "e01266f7f4a3004b"
  },
  {
   "metadata": {},
   "cell_type": "code",
   "outputs": [],
   "execution_count": null,
   "source": "",
   "id": "876b8394e7a5399"
  }
 ],
 "metadata": {
  "kernelspec": {
   "display_name": "Python 3",
   "language": "python",
   "name": "python3"
  },
  "language_info": {
   "codemirror_mode": {
    "name": "ipython",
    "version": 2
   },
   "file_extension": ".py",
   "mimetype": "text/x-python",
   "name": "python",
   "nbconvert_exporter": "python",
   "pygments_lexer": "ipython2",
   "version": "2.7.6"
  }
 },
 "nbformat": 4,
 "nbformat_minor": 5
}
