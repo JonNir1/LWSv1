{
 "cells": [
  {
   "metadata": {},
   "cell_type": "markdown",
   "source": [
    "# Outlier Detection\n",
    "## Based on Action Rate\n",
    "\n",
    "Classify subjects as outliers based on:\n",
    "1) Rate of Bad-Action Trials\n",
    "2) Rate of No-Action Trials\n",
    "\n",
    "Classify specific trials as outliers based on:\n",
    "1) Rate of Bad Actions (compared to subject's average)\n",
    "2) Rate of No Actions (compared to subject's average)"
   ],
   "id": "c13016b0a6a1d313"
  },
  {
   "metadata": {
    "ExecuteTime": {
     "end_time": "2025-07-17T15:00:23.407412Z",
     "start_time": "2025-07-17T15:00:23.402782Z"
    }
   },
   "cell_type": "code",
   "source": [
    "import numpy as np\n",
    "import pandas as pd\n",
    "import plotly.graph_objects as go\n",
    "from plotly.subplots import make_subplots\n",
    "import plotly.express as px\n",
    "import plotly.io as pio\n",
    "\n",
    "import config as cnfg\n",
    "from analysis.hyper_parameter_selection.on_target_threshold import column_titles\n",
    "from data_models.SearchArray import SearchArray\n",
    "\n",
    "pio.renderers.default = \"notebook\"\n",
    "# pio.renderers.default = \"browser\""
   ],
   "id": "initial_id",
   "outputs": [],
   "execution_count": 58
  },
  {
   "metadata": {},
   "cell_type": "markdown",
   "source": "### Read data",
   "id": "f359762c5fc7399b"
  },
  {
   "metadata": {
    "ExecuteTime": {
     "end_time": "2025-07-17T14:31:18.185840Z",
     "start_time": "2025-07-17T14:31:18.098558Z"
    }
   },
   "cell_type": "code",
   "source": [
    "from analysis.pipeline.full_pipeline import read_saved_data\n",
    "\n",
    "_targets, _actions, metadata, _idents, _fixations, _visits = read_saved_data()\n",
    "is_bad = metadata[[cnfg.SUBJECT_STR, cnfg.TRIAL_STR, cnfg.TRIAL_CATEGORY_STR, \"bad_actions\", \"no_actions\"]]\n",
    "is_bad[\"bad_trial\"] = is_bad[\"bad_actions\"] | is_bad[\"no_actions\"]"
   ],
   "id": "fe3a5fbc99a0ceb6",
   "outputs": [
    {
     "name": "stderr",
     "output_type": "stream",
     "text": [
      "C:\\Users\\jonathanni\\AppData\\Local\\Temp\\ipykernel_15796\\3947540352.py:5: SettingWithCopyWarning:\n",
      "\n",
      "\n",
      "A value is trying to be set on a copy of a slice from a DataFrame.\n",
      "Try using .loc[row_indexer,col_indexer] = value instead\n",
      "\n",
      "See the caveats in the documentation: https://pandas.pydata.org/pandas-docs/stable/user_guide/indexing.html#returning-a-view-versus-a-copy\n",
      "\n"
     ]
    }
   ],
   "execution_count": 15
  },
  {
   "metadata": {},
   "cell_type": "markdown",
   "source": "### Find Outlier Subjects",
   "id": "421b0e6837783ae"
  },
  {
   "metadata": {
    "ExecuteTime": {
     "end_time": "2025-07-17T15:22:30.236492Z",
     "start_time": "2025-07-17T15:22:30.200957Z"
    }
   },
   "cell_type": "code",
   "source": [
    "STD_COEFF = 1  # Coefficient for standard deviation to define outliers\n",
    "\n",
    "subject_counts = (\n",
    "    is_bad\n",
    "    .groupby(cnfg.SUBJECT_STR)[[\"bad_actions\", \"no_actions\"]]\n",
    "    .sum()\n",
    "    .sort_index(ascending=True)\n",
    ")\n",
    "\n",
    "sum_per_subject = subject_counts[[\"bad_actions\"]].sum(axis=1)\n",
    "mean, std = sum_per_subject.mean(), sum_per_subject.std()\n",
    "to_exclude = sum_per_subject[sum_per_subject > mean + STD_COEFF * std].index\n",
    "print(f\"Subjects to exclude: {to_exclude.tolist()}\")\n",
    "\n",
    "fig = make_subplots(\n",
    "    rows=1, cols=2, column_titles=[\"Bad/No Actions\", \"Bad Actions Only\"], shared_yaxes=True,\n",
    ")\n",
    "for c in range(2):\n",
    "    cols = [[\"bad_actions\", \"no_actions\"], [\"bad_actions\"]][c]\n",
    "    sums = subject_counts[cols].sum(axis=1)\n",
    "    mean, std = sums.mean(), sums.std()\n",
    "    for col in cols:\n",
    "        fig.add_trace(\n",
    "            row=1, col=c + 1, trace=go.Bar(\n",
    "                x=subject_counts.index.map(lambda s: f\"Subject {s:02d}\"),\n",
    "                y=subject_counts[col],\n",
    "                name=col, legendgroup=col, showlegend=c == 0,\n",
    "                marker_color=\"red\" if col == \"bad_actions\" else \"blue\",\n",
    "            ),\n",
    "        )\n",
    "    for i in [-1, 0, 1]:\n",
    "        name = \"mean\" if i == 0 else f\"mean ± {abs(i)} std\"\n",
    "        fig.add_hline(\n",
    "            y=mean + i * std,\n",
    "            line=dict(\n",
    "                dash=\"dash\" if i == 0 else \"dot\",\n",
    "                color=\"black\" if i == 0 else \"gray\"\n",
    "            ),\n",
    "            name=name, legendgroup=name,\n",
    "            # showlegend=c == 0 and i <= 0,\n",
    "            row=1, col=c + 1,\n",
    "        )\n",
    "\n",
    "fig.update_layout(\n",
    "    width=900, height=500,\n",
    "    title=\"Number of Trials with Bad Actions or No Actions\",\n",
    "    xaxis_title=cnfg.SUBJECT_STR,\n",
    "    yaxis_title=\"Count\",\n",
    "    barmode='stack',\n",
    "    template=\"plotly_white\",\n",
    ")\n",
    "fig.show()"
   ],
   "id": "40679b2276201714",
   "outputs": [
    {
     "name": "stdout",
     "output_type": "stream",
     "text": [
      "Subjects to exclude: [19]\n"
     ]
    },
    {
     "data": {
      "text/html": [
       "<div>                            <div id=\"a477cd6d-3cd3-4e5f-a774-e4a1cc1b52d2\" class=\"plotly-graph-div\" style=\"height:500px; width:900px;\"></div>            <script type=\"text/javascript\">                require([\"plotly\"], function(Plotly) {                    window.PLOTLYENV=window.PLOTLYENV || {};                                    if (document.getElementById(\"a477cd6d-3cd3-4e5f-a774-e4a1cc1b52d2\")) {                    Plotly.newPlot(                        \"a477cd6d-3cd3-4e5f-a774-e4a1cc1b52d2\",                        [{\"legendgroup\":\"bad_actions\",\"marker\":{\"color\":\"red\"},\"name\":\"bad_actions\",\"showlegend\":true,\"x\":[\"Subject 02\",\"Subject 03\",\"Subject 12\",\"Subject 13\",\"Subject 14\",\"Subject 15\",\"Subject 16\",\"Subject 17\",\"Subject 18\",\"Subject 19\",\"Subject 20\",\"Subject 21\",\"Subject 22\"],\"y\":[8,1,8,7,5,5,3,8,12,24,2,2,2],\"type\":\"bar\",\"xaxis\":\"x\",\"yaxis\":\"y\"},{\"legendgroup\":\"no_actions\",\"marker\":{\"color\":\"blue\"},\"name\":\"no_actions\",\"showlegend\":true,\"x\":[\"Subject 02\",\"Subject 03\",\"Subject 12\",\"Subject 13\",\"Subject 14\",\"Subject 15\",\"Subject 16\",\"Subject 17\",\"Subject 18\",\"Subject 19\",\"Subject 20\",\"Subject 21\",\"Subject 22\"],\"y\":[1,2,1,3,3,6,4,6,0,1,7,4,6],\"type\":\"bar\",\"xaxis\":\"x\",\"yaxis\":\"y\"},{\"legendgroup\":\"bad_actions\",\"marker\":{\"color\":\"red\"},\"name\":\"bad_actions\",\"showlegend\":false,\"x\":[\"Subject 02\",\"Subject 03\",\"Subject 12\",\"Subject 13\",\"Subject 14\",\"Subject 15\",\"Subject 16\",\"Subject 17\",\"Subject 18\",\"Subject 19\",\"Subject 20\",\"Subject 21\",\"Subject 22\"],\"y\":[8,1,8,7,5,5,3,8,12,24,2,2,2],\"type\":\"bar\",\"xaxis\":\"x2\",\"yaxis\":\"y2\"}],                        {\"template\":{\"data\":{\"barpolar\":[{\"marker\":{\"line\":{\"color\":\"white\",\"width\":0.5},\"pattern\":{\"fillmode\":\"overlay\",\"size\":10,\"solidity\":0.2}},\"type\":\"barpolar\"}],\"bar\":[{\"error_x\":{\"color\":\"#2a3f5f\"},\"error_y\":{\"color\":\"#2a3f5f\"},\"marker\":{\"line\":{\"color\":\"white\",\"width\":0.5},\"pattern\":{\"fillmode\":\"overlay\",\"size\":10,\"solidity\":0.2}},\"type\":\"bar\"}],\"carpet\":[{\"aaxis\":{\"endlinecolor\":\"#2a3f5f\",\"gridcolor\":\"#C8D4E3\",\"linecolor\":\"#C8D4E3\",\"minorgridcolor\":\"#C8D4E3\",\"startlinecolor\":\"#2a3f5f\"},\"baxis\":{\"endlinecolor\":\"#2a3f5f\",\"gridcolor\":\"#C8D4E3\",\"linecolor\":\"#C8D4E3\",\"minorgridcolor\":\"#C8D4E3\",\"startlinecolor\":\"#2a3f5f\"},\"type\":\"carpet\"}],\"choropleth\":[{\"colorbar\":{\"outlinewidth\":0,\"ticks\":\"\"},\"type\":\"choropleth\"}],\"contourcarpet\":[{\"colorbar\":{\"outlinewidth\":0,\"ticks\":\"\"},\"type\":\"contourcarpet\"}],\"contour\":[{\"colorbar\":{\"outlinewidth\":0,\"ticks\":\"\"},\"colorscale\":[[0.0,\"#0d0887\"],[0.1111111111111111,\"#46039f\"],[0.2222222222222222,\"#7201a8\"],[0.3333333333333333,\"#9c179e\"],[0.4444444444444444,\"#bd3786\"],[0.5555555555555556,\"#d8576b\"],[0.6666666666666666,\"#ed7953\"],[0.7777777777777778,\"#fb9f3a\"],[0.8888888888888888,\"#fdca26\"],[1.0,\"#f0f921\"]],\"type\":\"contour\"}],\"heatmapgl\":[{\"colorbar\":{\"outlinewidth\":0,\"ticks\":\"\"},\"colorscale\":[[0.0,\"#0d0887\"],[0.1111111111111111,\"#46039f\"],[0.2222222222222222,\"#7201a8\"],[0.3333333333333333,\"#9c179e\"],[0.4444444444444444,\"#bd3786\"],[0.5555555555555556,\"#d8576b\"],[0.6666666666666666,\"#ed7953\"],[0.7777777777777778,\"#fb9f3a\"],[0.8888888888888888,\"#fdca26\"],[1.0,\"#f0f921\"]],\"type\":\"heatmapgl\"}],\"heatmap\":[{\"colorbar\":{\"outlinewidth\":0,\"ticks\":\"\"},\"colorscale\":[[0.0,\"#0d0887\"],[0.1111111111111111,\"#46039f\"],[0.2222222222222222,\"#7201a8\"],[0.3333333333333333,\"#9c179e\"],[0.4444444444444444,\"#bd3786\"],[0.5555555555555556,\"#d8576b\"],[0.6666666666666666,\"#ed7953\"],[0.7777777777777778,\"#fb9f3a\"],[0.8888888888888888,\"#fdca26\"],[1.0,\"#f0f921\"]],\"type\":\"heatmap\"}],\"histogram2dcontour\":[{\"colorbar\":{\"outlinewidth\":0,\"ticks\":\"\"},\"colorscale\":[[0.0,\"#0d0887\"],[0.1111111111111111,\"#46039f\"],[0.2222222222222222,\"#7201a8\"],[0.3333333333333333,\"#9c179e\"],[0.4444444444444444,\"#bd3786\"],[0.5555555555555556,\"#d8576b\"],[0.6666666666666666,\"#ed7953\"],[0.7777777777777778,\"#fb9f3a\"],[0.8888888888888888,\"#fdca26\"],[1.0,\"#f0f921\"]],\"type\":\"histogram2dcontour\"}],\"histogram2d\":[{\"colorbar\":{\"outlinewidth\":0,\"ticks\":\"\"},\"colorscale\":[[0.0,\"#0d0887\"],[0.1111111111111111,\"#46039f\"],[0.2222222222222222,\"#7201a8\"],[0.3333333333333333,\"#9c179e\"],[0.4444444444444444,\"#bd3786\"],[0.5555555555555556,\"#d8576b\"],[0.6666666666666666,\"#ed7953\"],[0.7777777777777778,\"#fb9f3a\"],[0.8888888888888888,\"#fdca26\"],[1.0,\"#f0f921\"]],\"type\":\"histogram2d\"}],\"histogram\":[{\"marker\":{\"pattern\":{\"fillmode\":\"overlay\",\"size\":10,\"solidity\":0.2}},\"type\":\"histogram\"}],\"mesh3d\":[{\"colorbar\":{\"outlinewidth\":0,\"ticks\":\"\"},\"type\":\"mesh3d\"}],\"parcoords\":[{\"line\":{\"colorbar\":{\"outlinewidth\":0,\"ticks\":\"\"}},\"type\":\"parcoords\"}],\"pie\":[{\"automargin\":true,\"type\":\"pie\"}],\"scatter3d\":[{\"line\":{\"colorbar\":{\"outlinewidth\":0,\"ticks\":\"\"}},\"marker\":{\"colorbar\":{\"outlinewidth\":0,\"ticks\":\"\"}},\"type\":\"scatter3d\"}],\"scattercarpet\":[{\"marker\":{\"colorbar\":{\"outlinewidth\":0,\"ticks\":\"\"}},\"type\":\"scattercarpet\"}],\"scattergeo\":[{\"marker\":{\"colorbar\":{\"outlinewidth\":0,\"ticks\":\"\"}},\"type\":\"scattergeo\"}],\"scattergl\":[{\"marker\":{\"colorbar\":{\"outlinewidth\":0,\"ticks\":\"\"}},\"type\":\"scattergl\"}],\"scattermapbox\":[{\"marker\":{\"colorbar\":{\"outlinewidth\":0,\"ticks\":\"\"}},\"type\":\"scattermapbox\"}],\"scatterpolargl\":[{\"marker\":{\"colorbar\":{\"outlinewidth\":0,\"ticks\":\"\"}},\"type\":\"scatterpolargl\"}],\"scatterpolar\":[{\"marker\":{\"colorbar\":{\"outlinewidth\":0,\"ticks\":\"\"}},\"type\":\"scatterpolar\"}],\"scatter\":[{\"fillpattern\":{\"fillmode\":\"overlay\",\"size\":10,\"solidity\":0.2},\"type\":\"scatter\"}],\"scatterternary\":[{\"marker\":{\"colorbar\":{\"outlinewidth\":0,\"ticks\":\"\"}},\"type\":\"scatterternary\"}],\"surface\":[{\"colorbar\":{\"outlinewidth\":0,\"ticks\":\"\"},\"colorscale\":[[0.0,\"#0d0887\"],[0.1111111111111111,\"#46039f\"],[0.2222222222222222,\"#7201a8\"],[0.3333333333333333,\"#9c179e\"],[0.4444444444444444,\"#bd3786\"],[0.5555555555555556,\"#d8576b\"],[0.6666666666666666,\"#ed7953\"],[0.7777777777777778,\"#fb9f3a\"],[0.8888888888888888,\"#fdca26\"],[1.0,\"#f0f921\"]],\"type\":\"surface\"}],\"table\":[{\"cells\":{\"fill\":{\"color\":\"#EBF0F8\"},\"line\":{\"color\":\"white\"}},\"header\":{\"fill\":{\"color\":\"#C8D4E3\"},\"line\":{\"color\":\"white\"}},\"type\":\"table\"}]},\"layout\":{\"annotationdefaults\":{\"arrowcolor\":\"#2a3f5f\",\"arrowhead\":0,\"arrowwidth\":1},\"autotypenumbers\":\"strict\",\"coloraxis\":{\"colorbar\":{\"outlinewidth\":0,\"ticks\":\"\"}},\"colorscale\":{\"diverging\":[[0,\"#8e0152\"],[0.1,\"#c51b7d\"],[0.2,\"#de77ae\"],[0.3,\"#f1b6da\"],[0.4,\"#fde0ef\"],[0.5,\"#f7f7f7\"],[0.6,\"#e6f5d0\"],[0.7,\"#b8e186\"],[0.8,\"#7fbc41\"],[0.9,\"#4d9221\"],[1,\"#276419\"]],\"sequential\":[[0.0,\"#0d0887\"],[0.1111111111111111,\"#46039f\"],[0.2222222222222222,\"#7201a8\"],[0.3333333333333333,\"#9c179e\"],[0.4444444444444444,\"#bd3786\"],[0.5555555555555556,\"#d8576b\"],[0.6666666666666666,\"#ed7953\"],[0.7777777777777778,\"#fb9f3a\"],[0.8888888888888888,\"#fdca26\"],[1.0,\"#f0f921\"]],\"sequentialminus\":[[0.0,\"#0d0887\"],[0.1111111111111111,\"#46039f\"],[0.2222222222222222,\"#7201a8\"],[0.3333333333333333,\"#9c179e\"],[0.4444444444444444,\"#bd3786\"],[0.5555555555555556,\"#d8576b\"],[0.6666666666666666,\"#ed7953\"],[0.7777777777777778,\"#fb9f3a\"],[0.8888888888888888,\"#fdca26\"],[1.0,\"#f0f921\"]]},\"colorway\":[\"#636efa\",\"#EF553B\",\"#00cc96\",\"#ab63fa\",\"#FFA15A\",\"#19d3f3\",\"#FF6692\",\"#B6E880\",\"#FF97FF\",\"#FECB52\"],\"font\":{\"color\":\"#2a3f5f\"},\"geo\":{\"bgcolor\":\"white\",\"lakecolor\":\"white\",\"landcolor\":\"white\",\"showlakes\":true,\"showland\":true,\"subunitcolor\":\"#C8D4E3\"},\"hoverlabel\":{\"align\":\"left\"},\"hovermode\":\"closest\",\"mapbox\":{\"style\":\"light\"},\"paper_bgcolor\":\"white\",\"plot_bgcolor\":\"white\",\"polar\":{\"angularaxis\":{\"gridcolor\":\"#EBF0F8\",\"linecolor\":\"#EBF0F8\",\"ticks\":\"\"},\"bgcolor\":\"white\",\"radialaxis\":{\"gridcolor\":\"#EBF0F8\",\"linecolor\":\"#EBF0F8\",\"ticks\":\"\"}},\"scene\":{\"xaxis\":{\"backgroundcolor\":\"white\",\"gridcolor\":\"#DFE8F3\",\"gridwidth\":2,\"linecolor\":\"#EBF0F8\",\"showbackground\":true,\"ticks\":\"\",\"zerolinecolor\":\"#EBF0F8\"},\"yaxis\":{\"backgroundcolor\":\"white\",\"gridcolor\":\"#DFE8F3\",\"gridwidth\":2,\"linecolor\":\"#EBF0F8\",\"showbackground\":true,\"ticks\":\"\",\"zerolinecolor\":\"#EBF0F8\"},\"zaxis\":{\"backgroundcolor\":\"white\",\"gridcolor\":\"#DFE8F3\",\"gridwidth\":2,\"linecolor\":\"#EBF0F8\",\"showbackground\":true,\"ticks\":\"\",\"zerolinecolor\":\"#EBF0F8\"}},\"shapedefaults\":{\"line\":{\"color\":\"#2a3f5f\"}},\"ternary\":{\"aaxis\":{\"gridcolor\":\"#DFE8F3\",\"linecolor\":\"#A2B1C6\",\"ticks\":\"\"},\"baxis\":{\"gridcolor\":\"#DFE8F3\",\"linecolor\":\"#A2B1C6\",\"ticks\":\"\"},\"bgcolor\":\"white\",\"caxis\":{\"gridcolor\":\"#DFE8F3\",\"linecolor\":\"#A2B1C6\",\"ticks\":\"\"}},\"title\":{\"x\":0.05},\"xaxis\":{\"automargin\":true,\"gridcolor\":\"#EBF0F8\",\"linecolor\":\"#EBF0F8\",\"ticks\":\"\",\"title\":{\"standoff\":15},\"zerolinecolor\":\"#EBF0F8\",\"zerolinewidth\":2},\"yaxis\":{\"automargin\":true,\"gridcolor\":\"#EBF0F8\",\"linecolor\":\"#EBF0F8\",\"ticks\":\"\",\"title\":{\"standoff\":15},\"zerolinecolor\":\"#EBF0F8\",\"zerolinewidth\":2}}},\"xaxis\":{\"anchor\":\"y\",\"domain\":[0.0,0.45],\"title\":{\"text\":\"subject\"}},\"yaxis\":{\"anchor\":\"x\",\"domain\":[0.0,1.0],\"title\":{\"text\":\"Count\"}},\"xaxis2\":{\"anchor\":\"y2\",\"domain\":[0.55,1.0]},\"yaxis2\":{\"anchor\":\"x2\",\"domain\":[0.0,1.0],\"matches\":\"y\",\"showticklabels\":false},\"annotations\":[{\"font\":{\"size\":16},\"showarrow\":false,\"text\":\"Bad\\u002fNo Actions\",\"x\":0.225,\"xanchor\":\"center\",\"xref\":\"paper\",\"y\":1.0,\"yanchor\":\"bottom\",\"yref\":\"paper\"},{\"font\":{\"size\":16},\"showarrow\":false,\"text\":\"Bad Actions Only\",\"x\":0.775,\"xanchor\":\"center\",\"xref\":\"paper\",\"y\":1.0,\"yanchor\":\"bottom\",\"yref\":\"paper\"}],\"shapes\":[{\"legendgroup\":\"mean \\u00b1 1 std\",\"line\":{\"color\":\"gray\",\"dash\":\"dot\"},\"name\":\"mean \\u00b1 1 std\",\"type\":\"line\",\"x0\":0,\"x1\":1,\"xref\":\"x domain\",\"y0\":4.825549630202393,\"y1\":4.825549630202393,\"yref\":\"y\"},{\"legendgroup\":\"mean\",\"line\":{\"color\":\"black\",\"dash\":\"dash\"},\"name\":\"mean\",\"type\":\"line\",\"x0\":0,\"x1\":1,\"xref\":\"x domain\",\"y0\":10.076923076923077,\"y1\":10.076923076923077,\"yref\":\"y\"},{\"legendgroup\":\"mean \\u00b1 1 std\",\"line\":{\"color\":\"gray\",\"dash\":\"dot\"},\"name\":\"mean \\u00b1 1 std\",\"type\":\"line\",\"x0\":0,\"x1\":1,\"xref\":\"x domain\",\"y0\":15.328296523643761,\"y1\":15.328296523643761,\"yref\":\"y\"},{\"legendgroup\":\"mean \\u00b1 1 std\",\"line\":{\"color\":\"gray\",\"dash\":\"dot\"},\"name\":\"mean \\u00b1 1 std\",\"type\":\"line\",\"x0\":0,\"x1\":1,\"xref\":\"x2 domain\",\"y0\":0.56335161773002,\"y1\":0.56335161773002,\"yref\":\"y2\"},{\"legendgroup\":\"mean\",\"line\":{\"color\":\"black\",\"dash\":\"dash\"},\"name\":\"mean\",\"type\":\"line\",\"x0\":0,\"x1\":1,\"xref\":\"x2 domain\",\"y0\":6.6923076923076925,\"y1\":6.6923076923076925,\"yref\":\"y2\"},{\"legendgroup\":\"mean \\u00b1 1 std\",\"line\":{\"color\":\"gray\",\"dash\":\"dot\"},\"name\":\"mean \\u00b1 1 std\",\"type\":\"line\",\"x0\":0,\"x1\":1,\"xref\":\"x2 domain\",\"y0\":12.821263766885366,\"y1\":12.821263766885366,\"yref\":\"y2\"}],\"width\":900,\"height\":500,\"title\":{\"text\":\"Number of Trials with Bad Actions or No Actions\"},\"barmode\":\"stack\"},                        {\"responsive\": true}                    ).then(function(){\n",
       "                            \n",
       "var gd = document.getElementById('a477cd6d-3cd3-4e5f-a774-e4a1cc1b52d2');\n",
       "var x = new MutationObserver(function (mutations, observer) {{\n",
       "        var display = window.getComputedStyle(gd).display;\n",
       "        if (!display || display === 'none') {{\n",
       "            console.log([gd, 'removed!']);\n",
       "            Plotly.purge(gd);\n",
       "            observer.disconnect();\n",
       "        }}\n",
       "}});\n",
       "\n",
       "// Listen for the removal of the full notebook cells\n",
       "var notebookContainer = gd.closest('#notebook-container');\n",
       "if (notebookContainer) {{\n",
       "    x.observe(notebookContainer, {childList: true});\n",
       "}}\n",
       "\n",
       "// Listen for the clearing of the current output cell\n",
       "var outputEl = gd.closest('.output');\n",
       "if (outputEl) {{\n",
       "    x.observe(outputEl, {childList: true});\n",
       "}}\n",
       "\n",
       "                        })                };                });            </script>        </div>"
      ]
     },
     "metadata": {},
     "output_type": "display_data"
    }
   ],
   "execution_count": 95
  },
  {
   "metadata": {
    "ExecuteTime": {
     "end_time": "2025-07-17T15:27:19.898817Z",
     "start_time": "2025-07-17T15:27:19.892736Z"
    }
   },
   "cell_type": "code",
   "source": [
    "print(f\"Subjects to exclude: {to_exclude.tolist()}\")\n",
    "trials_to_exclude = list(\n",
    "    metadata\n",
    "    .loc[~np.isin(metadata[cnfg.SUBJECT_STR], to_exclude.tolist())]\n",
    "    .loc[metadata[\"bad_actions\"], [cnfg.SUBJECT_STR, cnfg.TRIAL_STR]]\n",
    "    .itertuples(index=False, name=None)\n",
    ")\n",
    "\n",
    "print(f\"Trials to exclude: {trials_to_exclude}\")"
   ],
   "id": "389e9432664ce024",
   "outputs": [
    {
     "name": "stdout",
     "output_type": "stream",
     "text": [
      "Subjects to exclude: [19]\n",
      "Trials to exclude: [(2, 32), (2, 41), (2, 42), (2, 47), (2, 48), (2, 49), (2, 55), (2, 56), (3, 47), (12, 2), (12, 8), (12, 15), (12, 23), (12, 28), (12, 44), (12, 58), (12, 59), (13, 9), (13, 12), (13, 33), (13, 35), (13, 39), (13, 55), (13, 60), (14, 5), (14, 8), (14, 9), (14, 39), (14, 44), (15, 24), (15, 25), (15, 42), (15, 52), (15, 54), (16, 3), (16, 21), (16, 57), (17, 12), (17, 14), (17, 15), (17, 26), (17, 34), (17, 36), (17, 46), (17, 47), (18, 13), (18, 27), (18, 28), (18, 30), (18, 32), (18, 34), (18, 35), (18, 38), (18, 39), (18, 51), (18, 54), (18, 60), (20, 38), (20, 58), (21, 50), (21, 54), (22, 17), (22, 24)]\n"
     ]
    }
   ],
   "execution_count": 101
  },
  {
   "metadata": {},
   "cell_type": "code",
   "outputs": [],
   "execution_count": null,
   "source": "",
   "id": "eae7c3851d943df2"
  },
  {
   "metadata": {},
   "cell_type": "code",
   "outputs": [],
   "execution_count": null,
   "source": "",
   "id": "f86a4919844400ba"
  }
 ],
 "metadata": {
  "kernelspec": {
   "display_name": "Python 3",
   "language": "python",
   "name": "python3"
  },
  "language_info": {
   "codemirror_mode": {
    "name": "ipython",
    "version": 2
   },
   "file_extension": ".py",
   "mimetype": "text/x-python",
   "name": "python",
   "nbconvert_exporter": "python",
   "pygments_lexer": "ipython2",
   "version": "2.7.6"
  }
 },
 "nbformat": 4,
 "nbformat_minor": 5
}
